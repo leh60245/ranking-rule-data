{
 "cells": [
  {
   "cell_type": "code",
   "execution_count": 2,
   "metadata": {},
   "outputs": [],
   "source": [
    "import argparse\n",
    "import json\n",
    "import os\n",
    "from tqdm import tqdm\n",
    "\n",
    "import torch\n",
    "from transformers import AutoTokenizer, AutoModelForSequenceClassification"
   ]
  },
  {
   "cell_type": "code",
   "execution_count": 28,
   "metadata": {},
   "outputs": [
    {
     "data": {
      "text/plain": [
       "{'base_lrs': [3e-07],\n",
       " 'last_epoch': 530000,\n",
       " 'verbose': False,\n",
       " '_step_count': 530001,\n",
       " '_get_lr_called_within_step': False,\n",
       " '_last_lr': [1.396059424718154e-07],\n",
       " 'lr_lambdas': [{}]}"
      ]
     },
     "execution_count": 28,
     "metadata": {},
     "output_type": "execute_result"
    }
   ],
   "source": [
    "model_save_path = \"models/cross-encoder/stsb-roberta-large_neg40_20240703_100754/best_model.bin\"\n",
    "checkpoint = torch.load(model_save_path, map_location=torch.device('cpu'))\n",
    "checkpoint[\"scheduler_state_dict\"]"
   ]
  },
  {
   "cell_type": "code",
   "execution_count": 33,
   "metadata": {},
   "outputs": [
    {
     "data": {
      "text/plain": [
       "{'base_lrs': [1.5e-06],\n",
       " 'last_epoch': 300000,\n",
       " 'verbose': False,\n",
       " '_step_count': 300001,\n",
       " '_get_lr_called_within_step': False,\n",
       " '_last_lr': [3.951111579391002e-07],\n",
       " 'lr_lambdas': [{}]}"
      ]
     },
     "execution_count": 33,
     "metadata": {},
     "output_type": "execute_result"
    }
   ],
   "source": [
    "model_save_path = \"models/cross-encoder/stsb-roberta-large_neg40_20240630_163002/best_model.bin\"\n",
    "checkpoint = torch.load(model_save_path, map_location=torch.device('cpu'))\n",
    "checkpoint[\"scheduler_state_dict\"]"
   ]
  },
  {
   "cell_type": "code",
   "execution_count": 30,
   "metadata": {},
   "outputs": [
    {
     "data": {
      "text/plain": [
       "{'base_lrs': [3e-06],\n",
       " 'last_epoch': 500000,\n",
       " 'verbose': False,\n",
       " '_step_count': 500001,\n",
       " '_get_lr_called_within_step': False,\n",
       " '_last_lr': [1.3170371931303342e-06],\n",
       " 'lr_lambdas': [{}]}"
      ]
     },
     "execution_count": 30,
     "metadata": {},
     "output_type": "execute_result"
    }
   ],
   "source": [
    "model_save_path = \"models/cross-encoder/stsb-roberta-large_neg40_20240702_103434/best_model.bin\"\n",
    "checkpoint = torch.load(model_save_path, map_location=torch.device('cpu'))\n",
    "checkpoint[\"scheduler_state_dict\"]"
   ]
  },
  {
   "cell_type": "code",
   "execution_count": 32,
   "metadata": {},
   "outputs": [
    {
     "data": {
      "text/plain": [
       "{'base_lrs': [1.5e-05],\n",
       " 'last_epoch': 290000,\n",
       " 'verbose': False,\n",
       " '_step_count': 290001,\n",
       " '_get_lr_called_within_step': False,\n",
       " '_last_lr': [3.819407860077969e-06],\n",
       " 'lr_lambdas': [{}]}"
      ]
     },
     "execution_count": 32,
     "metadata": {},
     "output_type": "execute_result"
    }
   ],
   "source": [
    "model_save_path = \"models/cross-encoder/stsb-roberta-large_neg40_20240630_162955/best_model.bin\"\n",
    "checkpoint = torch.load(model_save_path, map_location=torch.device('cpu'))\n",
    "checkpoint[\"scheduler_state_dict\"]"
   ]
  }
 ],
 "metadata": {
  "kernelspec": {
   "display_name": "roberta",
   "language": "python",
   "name": "python3"
  },
  "language_info": {
   "codemirror_mode": {
    "name": "ipython",
    "version": 3
   },
   "file_extension": ".py",
   "mimetype": "text/x-python",
   "name": "python",
   "nbconvert_exporter": "python",
   "pygments_lexer": "ipython3",
   "version": "3.11.9"
  }
 },
 "nbformat": 4,
 "nbformat_minor": 2
}
